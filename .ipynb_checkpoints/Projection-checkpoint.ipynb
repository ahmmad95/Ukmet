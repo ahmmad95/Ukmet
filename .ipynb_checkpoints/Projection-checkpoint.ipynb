{
 "cells": [
  {
   "cell_type": "code",
   "execution_count": 1,
   "id": "0e31f785",
   "metadata": {},
   "outputs": [],
   "source": [
    "import pandas as pd\n",
    "import numpy as np\n",
    "import os\n",
    "from datetime import datetime\n",
    "import matplotlib.pyplot as plt\n",
    "import matplotlib.dates as mdates\n",
    "%matplotlib inline\n",
    "plt.rcParams[\"figure.figsize\"] = (8,5)\n",
    "import warnings\n",
    "warnings.filterwarnings('ignore')"
   ]
  },
  {
   "cell_type": "code",
   "execution_count": null,
   "id": "b133c18d",
   "metadata": {},
   "outputs": [],
   "source": [
    "def for_plot(file,rcp):\n",
    "    \n",
    "    # read the input data\n",
    "    df=pd.read_excel(file)\n",
    "    df=Data[df['Sea Surface Height Above Geoid (m)']!=1.000000020040877e+20].reset_index(drop=True) #remove outlier value\n",
    "    df['date']=df['date'].apply(lambda x: datetime.strptime(str(x), '%Y-%m-%d %H:%M:%S')) # convert column value to datetime format\n",
    "    df=df[df['date']<=datetime(2100, 12, 31)].reset_index(drop=True) # subset data upto year-2100\n",
    "    \n",
    "    # subset data based on projection ['RCP45','RCP85']\n",
    "    df=df[df['projection']==rcp]\n",
    "    df.reset_index(drop=True,inplace=True)\n",
    "    \n",
    "    # resample data from monthly to yearly average \n",
    "    yearly_mean=df.groupby('ID').resample('1Y')['change'].mean().reset_index()\n",
    "    pivot_df=yearly_mean.pivot(index='date',columns='ID',values='change') # pivot the dataframe to get ID as column\n",
    "    col_name=pivot_df.columns.to_list() # list of columns name of pivoted dataframe\n",
    "    \n",
    "    # create a empty dataframe to save the percentile values\n",
    "    plot_df=pd.DataFrame(index=np.arange(len(pivot_df)))\n",
    "    \n",
    "    # calculate [5, 50, 95] percentile value from all columns value\n",
    "    plot_df.loc[:,'median']=pivot_df[col_name].apply(lambda x: np.mean(x),axis=1).to_list()\n",
    "    plot_df.loc[:,'P_95']=pivot_df[col_name].apply(lambda x: np.nanpercentile(x,95),axis=1).to_list()\n",
    "    plot_df.loc[:,'P_5']=pivot_df[col_name].apply(lambda x: np.nanpercentile(x,5),axis=1).to_list()\n",
    "    plot_df.loc[:,'type_data']='RCP45'\n",
    "    plot_df.loc[:,'Year']=np.arange(2006,2101)\n",
    "    \n",
    "    return plot_df"
   ]
  },
  {
   "cell_type": "code",
   "execution_count": 2,
   "id": "ef380186",
   "metadata": {},
   "outputs": [],
   "source": [
    "rcp45=pd.read_excel('ZOS_RCP45.xlsx')\n",
    "rcp85=pd.read_excel('ZOS_RCP85.xlsx')"
   ]
  },
  {
   "cell_type": "code",
   "execution_count": 3,
   "id": "f6b68a82",
   "metadata": {},
   "outputs": [],
   "source": [
    "model_list=['GISS-E2-R','HadGEM2-ES','MIROC-ESM-CHEM','NorESM1-M','NorESM1-ME']"
   ]
  },
  {
   "cell_type": "code",
   "execution_count": 5,
   "id": "abdff781",
   "metadata": {},
   "outputs": [],
   "source": [
    "rcp45=rcp45.query('model in @model_list')\n",
    "rcp85=rcp85.query('model in @model_list')"
   ]
  },
  {
   "cell_type": "code",
   "execution_count": 9,
   "id": "4d78a79f",
   "metadata": {},
   "outputs": [],
   "source": [
    "rcp45.set_index('date',inplace=True)\n",
    "rcp85.set_index('date',inplace=True)"
   ]
  },
  {
   "cell_type": "code",
   "execution_count": 10,
   "id": "ff1dbac1",
   "metadata": {},
   "outputs": [],
   "source": [
    "rcp45['ID']=rcp45['model']+'_'+rcp45['projection']+'_'+rcp45['ensemble']\n",
    "rcp85['ID']=rcp85['model']+'_'+rcp85['projection']+'_'+rcp85['ensemble']"
   ]
  },
  {
   "cell_type": "code",
   "execution_count": 11,
   "id": "b31dbd3a",
   "metadata": {},
   "outputs": [],
   "source": [
    "df45=rcp45[['ID','change']]\n",
    "df85=rcp85[['ID','change']]"
   ]
  },
  {
   "cell_type": "code",
   "execution_count": 63,
   "id": "fe593af5",
   "metadata": {},
   "outputs": [],
   "source": [
    "year_45=df45.groupby('ID').resample('1Y')['change'].mean().reset_index()\n",
    "year_85=df85.groupby('ID').resample('1Y')['change'].mean().reset_index()\n",
    "pivot_45=year_45.pivot(index='date',columns='ID',values='change')\n",
    "pivot_85=year_85.pivot(index='date',columns='ID',values='change')\n",
    "col45=pivot_45.columns.to_list()\n",
    "col85=pivot_85.columns.to_list()"
   ]
  },
  {
   "cell_type": "code",
   "execution_count": 64,
   "id": "2c61a132",
   "metadata": {},
   "outputs": [],
   "source": [
    "plot_45=pd.DataFrame(index=np.arange(len(pivot_45)))\n",
    "plot_85=pd.DataFrame(index=np.arange(len(pivot_85)))"
   ]
  },
  {
   "cell_type": "code",
   "execution_count": 66,
   "id": "1efd3563",
   "metadata": {},
   "outputs": [],
   "source": [
    "plot_45.loc[:,'median']=pivot_45[col45].apply(lambda x: np.mean(x),axis=1).to_list()\n",
    "plot_45.loc[:,'P_95']=pivot_45[col45].apply(lambda x: np.nanpercentile(x,95),axis=1).to_list()\n",
    "plot_45.loc[:,'P_5']=pivot_45[col45].apply(lambda x: np.nanpercentile(x,5),axis=1).to_list()\n",
    "plot_45.loc[:,'type_data']='RCP45'\n",
    "plot_45.loc[:,'Year']=np.arange(2006,2101)\n",
    "plot_85.loc[:,'median']=pivot_85[col85].apply(lambda x: np.mean(x),axis=1).to_list()\n",
    "plot_85.loc[:,'P_95']=pivot_85[col85].apply(lambda x: np.nanpercentile(x,95),axis=1).to_list()\n",
    "plot_85.loc[:,'P_5']=pivot_85[col85].apply(lambda x: np.nanpercentile(x,5),axis=1).to_list()\n",
    "plot_85.loc[:,'type_data']='RCP85'\n",
    "plot_85.loc[:,'Year']=np.arange(2006,2101)"
   ]
  },
  {
   "cell_type": "code",
   "execution_count": 67,
   "id": "8b334903",
   "metadata": {},
   "outputs": [],
   "source": [
    "new_df=pd.concat([plot_45, plot_85], ignore_index=True)"
   ]
  },
  {
   "cell_type": "code",
   "execution_count": 68,
   "id": "a49b5d54",
   "metadata": {},
   "outputs": [
    {
     "data": {
      "text/html": [
       "<div>\n",
       "<style scoped>\n",
       "    .dataframe tbody tr th:only-of-type {\n",
       "        vertical-align: middle;\n",
       "    }\n",
       "\n",
       "    .dataframe tbody tr th {\n",
       "        vertical-align: top;\n",
       "    }\n",
       "\n",
       "    .dataframe thead th {\n",
       "        text-align: right;\n",
       "    }\n",
       "</style>\n",
       "<table border=\"1\" class=\"dataframe\">\n",
       "  <thead>\n",
       "    <tr style=\"text-align: right;\">\n",
       "      <th></th>\n",
       "      <th>median</th>\n",
       "      <th>P_95</th>\n",
       "      <th>P_5</th>\n",
       "      <th>type_data</th>\n",
       "      <th>Year</th>\n",
       "    </tr>\n",
       "  </thead>\n",
       "  <tbody>\n",
       "    <tr>\n",
       "      <th>0</th>\n",
       "      <td>0.052976</td>\n",
       "      <td>0.112891</td>\n",
       "      <td>-0.020569</td>\n",
       "      <td>RCP45</td>\n",
       "      <td>2006</td>\n",
       "    </tr>\n",
       "    <tr>\n",
       "      <th>1</th>\n",
       "      <td>0.052486</td>\n",
       "      <td>0.135706</td>\n",
       "      <td>-0.027046</td>\n",
       "      <td>RCP45</td>\n",
       "      <td>2007</td>\n",
       "    </tr>\n",
       "    <tr>\n",
       "      <th>2</th>\n",
       "      <td>0.048781</td>\n",
       "      <td>0.128354</td>\n",
       "      <td>-0.035757</td>\n",
       "      <td>RCP45</td>\n",
       "      <td>2008</td>\n",
       "    </tr>\n",
       "    <tr>\n",
       "      <th>3</th>\n",
       "      <td>0.049378</td>\n",
       "      <td>0.130891</td>\n",
       "      <td>-0.030819</td>\n",
       "      <td>RCP45</td>\n",
       "      <td>2009</td>\n",
       "    </tr>\n",
       "    <tr>\n",
       "      <th>4</th>\n",
       "      <td>0.061189</td>\n",
       "      <td>0.143541</td>\n",
       "      <td>-0.023571</td>\n",
       "      <td>RCP45</td>\n",
       "      <td>2010</td>\n",
       "    </tr>\n",
       "    <tr>\n",
       "      <th>...</th>\n",
       "      <td>...</td>\n",
       "      <td>...</td>\n",
       "      <td>...</td>\n",
       "      <td>...</td>\n",
       "      <td>...</td>\n",
       "    </tr>\n",
       "    <tr>\n",
       "      <th>185</th>\n",
       "      <td>0.578471</td>\n",
       "      <td>0.799403</td>\n",
       "      <td>0.237472</td>\n",
       "      <td>RCP85</td>\n",
       "      <td>2096</td>\n",
       "    </tr>\n",
       "    <tr>\n",
       "      <th>186</th>\n",
       "      <td>0.588482</td>\n",
       "      <td>0.834575</td>\n",
       "      <td>0.246731</td>\n",
       "      <td>RCP85</td>\n",
       "      <td>2097</td>\n",
       "    </tr>\n",
       "    <tr>\n",
       "      <th>187</th>\n",
       "      <td>0.609008</td>\n",
       "      <td>0.857306</td>\n",
       "      <td>0.261527</td>\n",
       "      <td>RCP85</td>\n",
       "      <td>2098</td>\n",
       "    </tr>\n",
       "    <tr>\n",
       "      <th>188</th>\n",
       "      <td>0.609135</td>\n",
       "      <td>0.838764</td>\n",
       "      <td>0.283188</td>\n",
       "      <td>RCP85</td>\n",
       "      <td>2099</td>\n",
       "    </tr>\n",
       "    <tr>\n",
       "      <th>189</th>\n",
       "      <td>0.639126</td>\n",
       "      <td>0.871856</td>\n",
       "      <td>0.299582</td>\n",
       "      <td>RCP85</td>\n",
       "      <td>2100</td>\n",
       "    </tr>\n",
       "  </tbody>\n",
       "</table>\n",
       "<p>190 rows × 5 columns</p>\n",
       "</div>"
      ],
      "text/plain": [
       "       median      P_95       P_5 type_data  Year\n",
       "0    0.052976  0.112891 -0.020569     RCP45  2006\n",
       "1    0.052486  0.135706 -0.027046     RCP45  2007\n",
       "2    0.048781  0.128354 -0.035757     RCP45  2008\n",
       "3    0.049378  0.130891 -0.030819     RCP45  2009\n",
       "4    0.061189  0.143541 -0.023571     RCP45  2010\n",
       "..        ...       ...       ...       ...   ...\n",
       "185  0.578471  0.799403  0.237472     RCP85  2096\n",
       "186  0.588482  0.834575  0.246731     RCP85  2097\n",
       "187  0.609008  0.857306  0.261527     RCP85  2098\n",
       "188  0.609135  0.838764  0.283188     RCP85  2099\n",
       "189  0.639126  0.871856  0.299582     RCP85  2100\n",
       "\n",
       "[190 rows x 5 columns]"
      ]
     },
     "execution_count": 68,
     "metadata": {},
     "output_type": "execute_result"
    }
   ],
   "source": [
    "new_df"
   ]
  },
  {
   "cell_type": "markdown",
   "id": "90efed64",
   "metadata": {},
   "source": [
    "## Plot the Projection graph"
   ]
  },
  {
   "cell_type": "code",
   "execution_count": 69,
   "id": "302868ed",
   "metadata": {},
   "outputs": [
    {
     "data": {
      "image/png": "[encoded data removed]",
      "text/plain": [
       "<Figure size 864x432 with 1 Axes>"
      ]
     },
     "metadata": {
      "needs_background": "light"
     },
     "output_type": "display_data"
    }
   ],
   "source": [
    "rcp45_col='#840B22'\n",
    "rcp85_col='#1D3354'\n",
    "color_palette=(rcp45_col,rcp85_col)\n",
    "alpha=[0.1,0.2]\n",
    "#plt.tick_params(axis='y', which='right', labelleft=False, labelright=True)\n",
    "plt.rcParams['ytick.right'] = plt.rcParams['ytick.labelright'] = True\n",
    "plt.rcParams['ytick.left'] = plt.rcParams['ytick.labelleft'] = False\n",
    "\n",
    "fig, ax = plt.subplots(1,1,figsize=(12,6))\n",
    "\n",
    "for idx, rcp in enumerate(new_df.type_data.unique()):\n",
    "    subset=new_df.loc[(new_df['type_data']==rcp)]\n",
    "    ax.plot(subset.Year, subset['median'],label=rcp, color=color_palette[idx])\n",
    "    #ax.fill_between(subset.Year,subset.P_5, subset.P_95, alpha=0.2,label=rcp, linewidth=0.0, color=color_palette[idx])\n",
    "    ax.fill_between(subset.Year,subset.P_5, subset.P_95, alpha=alpha[idx], label=rcp, linewidth=0.0, color=color_palette[idx])\n",
    "\n",
    "#plt.legend()\n",
    "plt.xlim([2005,2101])\n",
    "plt.xlabel('Years')\n",
    "#plt.ylim([-0.02, 1.0])\n",
    "ax.set_ylabel('Sea level change (m)')\n",
    "ax.yaxis.set_label_position(\"right\")\n",
    "plt.savefig('Projection.jpg')"
   ]
  },
  {
   "cell_type": "code",
   "execution_count": 1,
   "id": "5b7c5018",
   "metadata": {},
   "outputs": [
    {
     "ename": "NameError",
     "evalue": "name 'plot_45' is not defined",
     "output_type": "error",
     "traceback": [
      "\u001b[1;31m---------------------------------------------------------------------------\u001b[0m",
      "\u001b[1;31mNameError\u001b[0m                                 Traceback (most recent call last)",
      "\u001b[1;32m<ipython-input-1-afbf9cd09b92>\u001b[0m in \u001b[0;36m<module>\u001b[1;34m\u001b[0m\n\u001b[1;32m----> 1\u001b[1;33m \u001b[0mplot_45\u001b[0m\u001b[1;33m\u001b[0m\u001b[1;33m\u001b[0m\u001b[0m\n\u001b[0m",
      "\u001b[1;31mNameError\u001b[0m: name 'plot_45' is not defined"
     ]
    }
   ],
   "source": [
    "plot_45"
   ]
  },
  {
   "cell_type": "code",
   "execution_count": null,
   "id": "7bc7c0d3",
   "metadata": {},
   "outputs": [],
   "source": []
  }
 ],
 "metadata": {
  "kernelspec": {
   "display_name": "Python 3",
   "language": "python",
   "name": "python3"
  },
  "language_info": {
   "codemirror_mode": {
    "name": "ipython",
    "version": 3
   },
   "file_extension": ".py",
   "mimetype": "text/x-python",
   "name": "python",
   "nbconvert_exporter": "python",
   "pygments_lexer": "ipython3",
   "version": "3.8.8"
  }
 },
 "nbformat": 4,
 "nbformat_minor": 5
}
