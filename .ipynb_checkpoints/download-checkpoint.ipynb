{
 "cells": [
  {
   "cell_type": "code",
   "execution_count": null,
   "id": "24c6884e",
   "metadata": {},
   "outputs": [],
   "source": [
    "import requests\n",
    "import numpy as np\n",
    "import os\n",
    "\n",
    "models=['CSIRO-Mk3.6.0','CanESM2','GFDL-CM3','GFDL-ESM2G','GFDL-ESM2M','GISS-E2-R','HadGEM2-CC','HadGEM2-ES','INM-CM4','IPSL-CM5A-LR','IPSL-CM5A-MR','MIROC-ESM','MIROC-ESM-CHEM ','MIROC5','MPI-ESM-LR','MPI-ESM-MR','MRI-CGCM3','NorESM1-M','NorESM1-ME']\n",
    "ensembles=['r10i1p1','r1i1p1','r1i1p2','r1i1p3','r2i1p1','r2i1p2','r2i1p3','r3i1p1','r3i1p2','r3i1p3','r4i1p1','r4i1p2','r4i1p3','r5i1p1','r5i1p2','r5i1p3','r6i1p1','r6i1p3','r7i1p1','r8i1p1']\n",
    "projections=['rcp45','rcp85']\n",
    "variables=['zos','zostoga']\n",
    "times=['200601-201512','201601-202512','202601-203512','203601-204512','204601-205512','205601-206512','206601-207512','207601-208512','208601-209512','209601-210012']\n",
    "\n",
    "out_folder='./Zostoga'\n",
    "\n",
    "if not os.path.exists(out_folder):\n",
    "    os.makdirs(out_folder)\n",
    "\n",
    "\n",
    "\n",
    "for model,projection,ensemble, variable, time in zip(models,projections,ensembles,variables,times):\n",
    "    layer_1=str(model)\n",
    "    layer_2=str(projection)\n",
    "    layer_3=str(ensemble)\n",
    "    \n",
    "    root=os.getcwd()\n",
    "    dest_folder=os.path.join(root,layer_1, layer_2, layer_3)\n",
    "    \n",
    "    if not os.path.exists(dest_folder):\n",
    "        os.makedirs(dest_folder)\n",
    "        \n",
    "    filename=str(variable)+'_'+str(model)+'_'+str(projection)+'_'+str(ensemble)+'_'+str(time)+'.nc'\n",
    "    path=os.path.join(dest_folder, filename)\n",
    "    \n",
    "    \n",
    "    url='https://esg1.umr-cnrm.fr/thredds/fileServer/CMIP5_CNRM/output1/CNRM-CERFACS/CNRM-CM5/'+str(projection)+'/mon/ocean/Omon/'+str(ensemble)+'/v20111025/'+str(variable)+'/'+str(variable)+'_Omon_CNRM-CM5_'+str(projection)+'_'+str(ensemble)+'_'+str(time)+'.nc'\n",
    "\n",
    "    r=requests.get(url,allow_redirects=True)\n",
    "    open(str(path,'wb').write(r.content)"
   ]
  },
  {
   "cell_type": "code",
   "execution_count": 2,
   "id": "0f9c84f5",
   "metadata": {},
   "outputs": [],
   "source": []
  },
  {
   "cell_type": "code",
   "execution_count": 2,
   "id": "4ba39d3e",
   "metadata": {},
   "outputs": [
    {
     "name": "stdout",
     "output_type": "stream",
     "text": [
      "-----------------------------\n"
     ]
    }
   ],
   "source": [
    "import requests\n",
    "import numpy as np\n",
    "import os\n",
    "import wget\n",
    "\n",
    "models=['CSIRO-Mk3.6.0','CanESM2','GFDL-CM3','GFDL-ESM2G','GFDL-ESM2M','GISS-E2-R','HadGEM2-CC','HadGEM2-ES','INM-CM4','IPSL-CM5A-LR','IPSL-CM5A-MR','MIROC-ESM','MIROC-ESM-CHEM ','MIROC5','MPI-ESM-LR','MPI-ESM-MR','MRI-CGCM3','NorESM1-M','NorESM1-ME']\n",
    "ensembles=['r10i1p1','r1i1p1','r1i1p2','r1i1p3','r2i1p1','r2i1p2','r2i1p3','r3i1p1','r3i1p2','r3i1p3','r4i1p1','r4i1p2','r4i1p3','r5i1p1','r5i1p2','r5i1p3','r6i1p1','r6i1p3','r7i1p1','r8i1p1']\n",
    "projections=['rcp45','rcp85']\n",
    "variables=['zostoga']\n",
    "times=['200601-201512','201601-202512','202601-203512','203601-204512','204601-205512','205601-206512','206601-207512','207601-208512','208601-209512','209601-210012']\n",
    "\n",
    "\n",
    "out_folder='./Zostoga'\n",
    "\n",
    "if not os.path.exists(out_folder):\n",
    "    os.makedirs(out_folder)\n",
    "\n",
    "    \n",
    "for model,projection,ensemble, variable, time in zip(models,projections,ensembles,variables,times):\n",
    "    \n",
    "    layer_1=str(model)\n",
    "    layer_2=str(projection)\n",
    "    layer_3=str(ensemble)\n",
    "    \n",
    "    #root=os.getcwd()\n",
    "    dest_folder=os.path.join(out_folder,layer_1, layer_2, layer_3)\n",
    "    \n",
    "    if not os.path.exists(dest_folder):\n",
    "        os.makedirs(dest_folder)\n",
    "        \n",
    "    filename=str(variable)+'_'+str(model)+'_'+str(projection)+'_'+str(ensemble)+'_'+str(time)+'.nc'\n",
    "    path=os.path.join(dest_folder, filename)\n",
    "    \n",
    "    \n",
    "    url='https://esg1.umr-cnrm.fr/thredds/fileServer/CMIP5_CNRM/output1/CNRM-CERFACS/CNRM-CM5/'+str(projection)+'/mon/ocean/Omon/'+str(ensemble)+'/v20111025/'+str(variable)+'/'+str(variable)+'_Omon_CNRM-CM5_'+str(projection)+'_'+str(ensemble)+'_'+str(time)+'.nc'\n",
    "    \n",
    "    try:\n",
    "        r=requests.get(url,allow_redirects=True)\n",
    "        open(path,'wb').write(r.content)\n",
    "    \n",
    "    except Exception as e:\n",
    "        pass\n",
    "        print('url does not exist')\n",
    "        \n",
    "    print('-----------------------------')\n",
    "    "
   ]
  },
  {
   "cell_type": "code",
   "execution_count": 3,
   "id": "57bd7569",
   "metadata": {},
   "outputs": [
    {
     "data": {
      "text/plain": [
       "'https://esg1.umr-cnrm.fr/thredds/fileServer/CMIP5_CNRM/output1/CNRM-CERFACS/CNRM-CM5/rcp45/mon/ocean/Omon/r10i1p1/v20111025/zostoga/zostoga_Omon_CNRM-CM5_rcp45_r10i1p1_200601-201512.nc'"
      ]
     },
     "execution_count": 3,
     "metadata": {},
     "output_type": "execute_result"
    }
   ],
   "source": [
    "url"
   ]
  },
  {
   "cell_type": "code",
   "execution_count": null,
   "id": "041e9a8f",
   "metadata": {},
   "outputs": [],
   "source": [
    "http://crd-esgf-drc.ec.gc.ca/thredds/catalog/esgcet/1617/CMIP6.ScenarioMIP.CCCma.CanESM5.rcp45-cmip5.r9i1p1f1.Omon.zos.gn.v20190429.html?dataset=CMIP6.ScenarioMIP.CCCma.CanESM5.rcp45-cmip5.r9i1p1f1.Omon.zos.gn.v20190429.zos_Omon_CanESM5_rcp45-cmip5_r9i1p1f1_gn_200601-210012.nc"
   ]
  },
  {
   "cell_type": "code",
   "execution_count": 5,
   "id": "a79062f6",
   "metadata": {},
   "outputs": [],
   "source": [
    "import requests\n",
    "import numpy as np\n",
    "import os\n",
    "import wget"
   ]
  },
  {
   "cell_type": "code",
   "execution_count": 6,
   "id": "81435030",
   "metadata": {},
   "outputs": [],
   "source": [
    "server='http://esgf-data1.llnl.gov/thredds/fileServer/css03_data/'\n",
    "archive='CMIP6/CMIP/NASA-GISS/GISS-E2-1-G/historical/r1i1p5f1/Omon/zos/gn/v20190905/'\n",
    "    \n",
    "filename='zos_Omon_GISS-E2-1-G_historical_r1i1p5f1_gn_185001-190012.nc'\n",
    "\n",
    "url=os.path.join(server,archive,filename)"
   ]
  },
  {
   "cell_type": "code",
   "execution_count": 8,
   "id": "d4d08c6c",
   "metadata": {},
   "outputs": [],
   "source": [
    "out_folder='./Zostoga'\n",
    "\n",
    "if not os.path.exists(out_folder):\n",
    "    os.makedirs(out_folder)\n",
    "\n",
    "output_filename=os.path.join(out_folder,filename)"
   ]
  },
  {
   "cell_type": "code",
   "execution_count": 9,
   "id": "86bf6933",
   "metadata": {},
   "outputs": [
    {
     "name": "stdout",
     "output_type": "stream",
     "text": [
      "100% [......................................................................] 126944292 / 126944292"
     ]
    },
    {
     "data": {
      "text/plain": [
       "'./Zostoga\\\\zos_Omon_GISS-E2-1-G_historical_r1i1p5f1_gn_185001-190012.nc'"
      ]
     },
     "execution_count": 9,
     "metadata": {},
     "output_type": "execute_result"
    }
   ],
   "source": [
    "wget.download(url,output_filename)"
   ]
  },
  {
   "cell_type": "code",
   "execution_count": null,
   "id": "6060364d",
   "metadata": {},
   "outputs": [],
   "source": [
    "http://crd-esgf-drc.ec.gc.ca/thredds/fileServer/esgD_dataroot/AR6/CMIP6/ScenarioMIP/CCCma/CanESM5/ssp245/r13i1p2f1/Omon/zostoga/gn/v20190429/\n",
    "zostoga_Omon_CanESM5_ssp245_r13i1p2f1_gn_201501-210012.nc"
   ]
  }
 ],
 "metadata": {
  "kernelspec": {
   "display_name": "Python 3",
   "language": "python",
   "name": "python3"
  },
  "language_info": {
   "codemirror_mode": {
    "name": "ipython",
    "version": 3
   },
   "file_extension": ".py",
   "mimetype": "text/x-python",
   "name": "python",
   "nbconvert_exporter": "python",
   "pygments_lexer": "ipython3",
   "version": "3.8.8"
  }
 },
 "nbformat": 4,
 "nbformat_minor": 5
}
